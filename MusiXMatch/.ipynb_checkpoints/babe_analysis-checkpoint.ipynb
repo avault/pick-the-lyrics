{
 "cells": [
  {
   "cell_type": "markdown",
   "metadata": {},
   "source": [
    "# Analyzing the Use of the Word Babe\n",
    "\n",
    "This notebook contains analysis quantifying how frequently Babe/Baby are used in songs."
   ]
  },
  {
   "cell_type": "markdown",
   "metadata": {},
   "source": [
    "## Imports and Basic Setup"
   ]
  },
  {
   "cell_type": "code",
   "execution_count": 14,
   "metadata": {
    "collapsed": false
   },
   "outputs": [
    {
     "name": "stderr",
     "output_type": "stream",
     "text": [
      "/Applications/anaconda/lib/python2.7/site-packages/matplotlib/font_manager.py:273: UserWarning: Matplotlib is building the font cache using fc-list. This may take a moment.\n",
      "  warnings.warn('Matplotlib is building the font cache using fc-list. This may take a moment.')\n"
     ]
    }
   ],
   "source": [
    "%matplotlib inline\n",
    "%load_ext autoreload\n",
    "%autoreload 2"
   ]
  },
  {
   "cell_type": "code",
   "execution_count": 41,
   "metadata": {
    "collapsed": false
   },
   "outputs": [],
   "source": [
    "import h5py\n",
    "import numpy as np\n",
    "import pandas as pd\n",
    "import sqlite3"
   ]
  },
  {
   "cell_type": "code",
   "execution_count": 16,
   "metadata": {
    "collapsed": false
   },
   "outputs": [
    {
     "name": "stderr",
     "output_type": "stream",
     "text": [
      "/Applications/anaconda/lib/python2.7/site-packages/matplotlib/__init__.py:1357: UserWarning:  This call to matplotlib.use() has no effect\n",
      "because the backend has already been chosen;\n",
      "matplotlib.use() must be called *before* pylab, matplotlib.pyplot,\n",
      "or matplotlib.backends is imported for the first time.\n",
      "\n",
      "  warnings.warn(_use_error_msg)\n"
     ]
    }
   ],
   "source": [
    "# Plotting imports\n",
    "\n",
    "import matplotlib\n",
    "matplotlib.rcParams['mathtext.fontset'] = 'stix'\n",
    "matplotlib.rcParams['font.family'] = 'STIXGeneral'\n",
    "matplotlib.use('PDF')\n",
    "import matplotlib.pyplot as plt\n",
    "import matplotlib.cm as cm\n",
    "import pu_colormaps as pu_cm\n",
    "import matplotlib.transforms as transforms\n",
    "import matplotlib.patheffects as path_effects\n",
    "\n",
    "import general_plotting as gen_plot"
   ]
  },
  {
   "cell_type": "code",
   "execution_count": 17,
   "metadata": {
    "collapsed": true
   },
   "outputs": [],
   "source": [
    "# Default changes to matplotlib\n",
    "\n",
    "# Make the x and y ticks bigger\n",
    "matplotlib.rcParams['xtick.labelsize'] = 20\n",
    "matplotlib.rcParams['xtick.major.size'] = 10\n",
    "matplotlib.rcParams['xtick.major.width'] = 2\n",
    "matplotlib.rcParams['ytick.labelsize'] = 20\n",
    "matplotlib.rcParams['ytick.major.size'] = 10\n",
    "matplotlib.rcParams['ytick.major.width'] = 2"
   ]
  },
  {
   "cell_type": "markdown",
   "metadata": {
    "collapsed": true
   },
   "source": [
    "# Look at the Number of Songs per Year"
   ]
  },
  {
   "cell_type": "code",
   "execution_count": 18,
   "metadata": {
    "collapsed": false
   },
   "outputs": [
    {
     "name": "stderr",
     "output_type": "stream",
     "text": [
      "/Applications/anaconda/lib/python2.7/site-packages/ipykernel/__main__.py:4: ParserWarning: Falling back to the 'python' engine because the 'c' engine does not support regex separators (separators > 1 char and different from '\\s+' are interpreted as regex); you can avoid this warning by specifying engine='python'.\n"
     ]
    },
    {
     "data": {
      "text/html": [
       "<div>\n",
       "<table border=\"1\" class=\"dataframe\">\n",
       "  <thead>\n",
       "    <tr style=\"text-align: right;\">\n",
       "      <th></th>\n",
       "      <th>Year</th>\n",
       "      <th>ID</th>\n",
       "      <th>Artist</th>\n",
       "      <th>Title</th>\n",
       "    </tr>\n",
       "  </thead>\n",
       "  <tbody>\n",
       "    <tr>\n",
       "      <th>0</th>\n",
       "      <td>1926</td>\n",
       "      <td>TRBHUOU128F423625E</td>\n",
       "      <td>Blind Lemon Jefferson</td>\n",
       "      <td>Long Lonesome Blues</td>\n",
       "    </tr>\n",
       "    <tr>\n",
       "      <th>1</th>\n",
       "      <td>1926</td>\n",
       "      <td>TRBFMCN128F423625D</td>\n",
       "      <td>Blind Lemon Jefferson</td>\n",
       "      <td>Got The Blues</td>\n",
       "    </tr>\n",
       "    <tr>\n",
       "      <th>2</th>\n",
       "      <td>1927</td>\n",
       "      <td>TRAUSMF12903CE71E5</td>\n",
       "      <td>Blind Lemon Jefferson</td>\n",
       "      <td>Wartime Blues</td>\n",
       "    </tr>\n",
       "    <tr>\n",
       "      <th>3</th>\n",
       "      <td>1927</td>\n",
       "      <td>TRAGJGZ128F421EE19</td>\n",
       "      <td>Blind Willie McTell</td>\n",
       "      <td>Writing Paper Blues</td>\n",
       "    </tr>\n",
       "    <tr>\n",
       "      <th>4</th>\n",
       "      <td>1927</td>\n",
       "      <td>TRACBWQ128F92F2B91</td>\n",
       "      <td>Ma Rainey</td>\n",
       "      <td>Ma Rainey's Black Bottom</td>\n",
       "    </tr>\n",
       "    <tr>\n",
       "      <th>5</th>\n",
       "      <td>1929</td>\n",
       "      <td>TRAYUWU128F423F66D</td>\n",
       "      <td>Charley Patton</td>\n",
       "      <td>Mississippi Boweavil Blues</td>\n",
       "    </tr>\n",
       "    <tr>\n",
       "      <th>6</th>\n",
       "      <td>1930</td>\n",
       "      <td>TRACMPZ12903CF150B</td>\n",
       "      <td>Charley Patton</td>\n",
       "      <td>Moon Going Down</td>\n",
       "    </tr>\n",
       "    <tr>\n",
       "      <th>7</th>\n",
       "      <td>1930</td>\n",
       "      <td>TRAFMDA128F4224347</td>\n",
       "      <td>Sleepy John Estes</td>\n",
       "      <td>Street Car Blues</td>\n",
       "    </tr>\n",
       "    <tr>\n",
       "      <th>8</th>\n",
       "      <td>1934</td>\n",
       "      <td>TRAPTGG128F9326020</td>\n",
       "      <td>Charlie Patton</td>\n",
       "      <td>34 Blues</td>\n",
       "    </tr>\n",
       "    <tr>\n",
       "      <th>9</th>\n",
       "      <td>1935</td>\n",
       "      <td>TRAUCPI128F4224350</td>\n",
       "      <td>Sleepy John Estes</td>\n",
       "      <td>Stop That Thing</td>\n",
       "    </tr>\n",
       "    <tr>\n",
       "      <th>10</th>\n",
       "      <td>1935</td>\n",
       "      <td>TRBGPAX12903CEC037</td>\n",
       "      <td>Sleepy John Estes</td>\n",
       "      <td>Down South Blues</td>\n",
       "    </tr>\n",
       "    <tr>\n",
       "      <th>11</th>\n",
       "      <td>1936</td>\n",
       "      <td>TRAMWSA128F9359719</td>\n",
       "      <td>Red Foley</td>\n",
       "      <td>Old Shep</td>\n",
       "    </tr>\n",
       "    <tr>\n",
       "      <th>12</th>\n",
       "      <td>1940</td>\n",
       "      <td>TRAHYFB128F4280BB8</td>\n",
       "      <td>Bukka White</td>\n",
       "      <td>Fixin' To Die Blues</td>\n",
       "    </tr>\n",
       "    <tr>\n",
       "      <th>13</th>\n",
       "      <td>1940</td>\n",
       "      <td>TRBAKJC128F93399FB</td>\n",
       "      <td>Bukka White</td>\n",
       "      <td>Sleepy Man Blues</td>\n",
       "    </tr>\n",
       "    <tr>\n",
       "      <th>14</th>\n",
       "      <td>1947</td>\n",
       "      <td>TRAYRXY128F1494819</td>\n",
       "      <td>Tex Williams</td>\n",
       "      <td>Smoke! Smoke! Smoke! (That Cigarette)</td>\n",
       "    </tr>\n",
       "    <tr>\n",
       "      <th>15</th>\n",
       "      <td>1947</td>\n",
       "      <td>TRAFSGJ12903CAA742</td>\n",
       "      <td>Tex Williams</td>\n",
       "      <td>Smoke! Smoke! Smoke! (That Cigarette)</td>\n",
       "    </tr>\n",
       "    <tr>\n",
       "      <th>16</th>\n",
       "      <td>1950</td>\n",
       "      <td>TRAVEOQ128F931C8F4</td>\n",
       "      <td>Percy Mayfield</td>\n",
       "      <td>Please Send Me Someone To Love</td>\n",
       "    </tr>\n",
       "    <tr>\n",
       "      <th>17</th>\n",
       "      <td>1953</td>\n",
       "      <td>TRAPRRP12903CD97E9</td>\n",
       "      <td>Big Mama Thornton with Kansas Bill and his Orc...</td>\n",
       "      <td>Hound Dog</td>\n",
       "    </tr>\n",
       "    <tr>\n",
       "      <th>18</th>\n",
       "      <td>1953</td>\n",
       "      <td>TRAOFJS12903CF3F3D</td>\n",
       "      <td>Georges Brassens</td>\n",
       "      <td>Comme hier</td>\n",
       "    </tr>\n",
       "    <tr>\n",
       "      <th>19</th>\n",
       "      <td>1953</td>\n",
       "      <td>TRAOMMU128F933878B</td>\n",
       "      <td>Guitar Slim</td>\n",
       "      <td>The Things That I Used To Do</td>\n",
       "    </tr>\n",
       "    <tr>\n",
       "      <th>20</th>\n",
       "      <td>1953</td>\n",
       "      <td>TRALNDQ128F930DB3A</td>\n",
       "      <td>Percy Faith And His Orchestra</td>\n",
       "      <td>The Song From Moulin Rouge</td>\n",
       "    </tr>\n",
       "    <tr>\n",
       "      <th>21</th>\n",
       "      <td>1954</td>\n",
       "      <td>TRADDWO128F9305E06</td>\n",
       "      <td>J. B. Lenoir</td>\n",
       "      <td>I'm in Korea</td>\n",
       "    </tr>\n",
       "    <tr>\n",
       "      <th>22</th>\n",
       "      <td>1955</td>\n",
       "      <td>TRAJBRT128F9303318</td>\n",
       "      <td>Toots Thielemans</td>\n",
       "      <td>Sophisticated Lady</td>\n",
       "    </tr>\n",
       "    <tr>\n",
       "      <th>23</th>\n",
       "      <td>1956</td>\n",
       "      <td>TRBFNLX128F4249752</td>\n",
       "      <td>B.B. King</td>\n",
       "      <td>Please Love Me</td>\n",
       "    </tr>\n",
       "    <tr>\n",
       "      <th>24</th>\n",
       "      <td>1956</td>\n",
       "      <td>TRAXPEN128F933F4DC</td>\n",
       "      <td>B.B.King</td>\n",
       "      <td>Please Love Me</td>\n",
       "    </tr>\n",
       "    <tr>\n",
       "      <th>25</th>\n",
       "      <td>1956</td>\n",
       "      <td>TRAFMNM128F4251008</td>\n",
       "      <td>Cal Tjader</td>\n",
       "      <td>Manuel's Mambo</td>\n",
       "    </tr>\n",
       "    <tr>\n",
       "      <th>26</th>\n",
       "      <td>1956</td>\n",
       "      <td>TRBHOXV128F92FBB72</td>\n",
       "      <td>Eddy Arnold</td>\n",
       "      <td>Molly Darling</td>\n",
       "    </tr>\n",
       "    <tr>\n",
       "      <th>27</th>\n",
       "      <td>1956</td>\n",
       "      <td>TRAJHCS128F93192B5</td>\n",
       "      <td>Georges Brassens</td>\n",
       "      <td>Auprès De Mon Arbre</td>\n",
       "    </tr>\n",
       "    <tr>\n",
       "      <th>28</th>\n",
       "      <td>1956</td>\n",
       "      <td>TRAFTOE12903CF3F5E</td>\n",
       "      <td>Georges Brassens</td>\n",
       "      <td>Colombine</td>\n",
       "    </tr>\n",
       "    <tr>\n",
       "      <th>29</th>\n",
       "      <td>1956</td>\n",
       "      <td>TRAHSYA128F428143A</td>\n",
       "      <td>Screamin' Jay Hawkins</td>\n",
       "      <td>I Put a Spell on You</td>\n",
       "    </tr>\n",
       "    <tr>\n",
       "      <th>...</th>\n",
       "      <td>...</td>\n",
       "      <td>...</td>\n",
       "      <td>...</td>\n",
       "      <td>...</td>\n",
       "    </tr>\n",
       "    <tr>\n",
       "      <th>4650</th>\n",
       "      <td>2010</td>\n",
       "      <td>TRBECGH12903CC2304</td>\n",
       "      <td>Markscheider Kunst</td>\n",
       "      <td>Dj</td>\n",
       "    </tr>\n",
       "    <tr>\n",
       "      <th>4651</th>\n",
       "      <td>2010</td>\n",
       "      <td>TRBDJNF12903CE6967</td>\n",
       "      <td>Melissa Auf der Maur</td>\n",
       "      <td>The Key</td>\n",
       "    </tr>\n",
       "    <tr>\n",
       "      <th>4652</th>\n",
       "      <td>2010</td>\n",
       "      <td>TRAYBTJ12903CB4C22</td>\n",
       "      <td>Metsatöll</td>\n",
       "      <td>Kui rebeneb taevas</td>\n",
       "    </tr>\n",
       "    <tr>\n",
       "      <th>4653</th>\n",
       "      <td>2010</td>\n",
       "      <td>TRAZHMT12903C9D27E</td>\n",
       "      <td>Moist</td>\n",
       "      <td>Far Beyond The Endless</td>\n",
       "    </tr>\n",
       "    <tr>\n",
       "      <th>4654</th>\n",
       "      <td>2010</td>\n",
       "      <td>TRAGZHM12903CAEF3A</td>\n",
       "      <td>Mägo de Oz</td>\n",
       "      <td>Qué Desilusión</td>\n",
       "    </tr>\n",
       "    <tr>\n",
       "      <th>4655</th>\n",
       "      <td>2010</td>\n",
       "      <td>TRASYIH12903D08529</td>\n",
       "      <td>Nick Jonas &amp; The Administration</td>\n",
       "      <td>State of Emergency</td>\n",
       "    </tr>\n",
       "    <tr>\n",
       "      <th>4656</th>\n",
       "      <td>2010</td>\n",
       "      <td>TRAQOOW128F932FA3C</td>\n",
       "      <td>Noemi</td>\n",
       "      <td>Per Colpa Tua</td>\n",
       "    </tr>\n",
       "    <tr>\n",
       "      <th>4657</th>\n",
       "      <td>2010</td>\n",
       "      <td>TRAAPLS12903CB2D40</td>\n",
       "      <td>Pascal Sangla</td>\n",
       "      <td>Une petite pause</td>\n",
       "    </tr>\n",
       "    <tr>\n",
       "      <th>4658</th>\n",
       "      <td>2010</td>\n",
       "      <td>TRATBMJ12903CB2D45</td>\n",
       "      <td>Pascal Sangla</td>\n",
       "      <td>Assis par terre</td>\n",
       "    </tr>\n",
       "    <tr>\n",
       "      <th>4659</th>\n",
       "      <td>2010</td>\n",
       "      <td>TRBGYDZ12903D075D4</td>\n",
       "      <td>Patty Griffin</td>\n",
       "      <td>All Creatures Of Our God And King</td>\n",
       "    </tr>\n",
       "    <tr>\n",
       "      <th>4660</th>\n",
       "      <td>2010</td>\n",
       "      <td>TRBARSX12903D03AE5</td>\n",
       "      <td>Sade</td>\n",
       "      <td>Morning Bird</td>\n",
       "    </tr>\n",
       "    <tr>\n",
       "      <th>4661</th>\n",
       "      <td>2010</td>\n",
       "      <td>TRAKYCT12903CBBE17</td>\n",
       "      <td>Sick Of It All</td>\n",
       "      <td>Death Or Jail</td>\n",
       "    </tr>\n",
       "    <tr>\n",
       "      <th>4662</th>\n",
       "      <td>2010</td>\n",
       "      <td>TRABNDD128F933D3C7</td>\n",
       "      <td>Sister Hazel</td>\n",
       "      <td>Walls And Cannonballs (Album)</td>\n",
       "    </tr>\n",
       "    <tr>\n",
       "      <th>4663</th>\n",
       "      <td>2010</td>\n",
       "      <td>TRBAOXY128F933D3C8</td>\n",
       "      <td>Sister Hazel</td>\n",
       "      <td>Vacation Rain (Album)</td>\n",
       "    </tr>\n",
       "    <tr>\n",
       "      <th>4664</th>\n",
       "      <td>2010</td>\n",
       "      <td>TRAWFCM12903CBE6FA</td>\n",
       "      <td>Skyforger</td>\n",
       "      <td>In the Underworld</td>\n",
       "    </tr>\n",
       "    <tr>\n",
       "      <th>4665</th>\n",
       "      <td>2010</td>\n",
       "      <td>TRAWQKX12903CB3EC2</td>\n",
       "      <td>Slackbaba</td>\n",
       "      <td>The Real Trick</td>\n",
       "    </tr>\n",
       "    <tr>\n",
       "      <th>4666</th>\n",
       "      <td>2010</td>\n",
       "      <td>TRAKGDZ12903CE4867</td>\n",
       "      <td>Story Of The Year</td>\n",
       "      <td>Won Threw Ate</td>\n",
       "    </tr>\n",
       "    <tr>\n",
       "      <th>4667</th>\n",
       "      <td>2010</td>\n",
       "      <td>TRAAODT12903D0D16E</td>\n",
       "      <td>Susana Seivane</td>\n",
       "      <td>Para Milladoiro</td>\n",
       "    </tr>\n",
       "    <tr>\n",
       "      <th>4668</th>\n",
       "      <td>2010</td>\n",
       "      <td>TRAFITO12903D0D16A</td>\n",
       "      <td>Susana Seivane</td>\n",
       "      <td>Mazurcas das Rías Baixas</td>\n",
       "    </tr>\n",
       "    <tr>\n",
       "      <th>4669</th>\n",
       "      <td>2010</td>\n",
       "      <td>TRANQYI12903CA2BA9</td>\n",
       "      <td>Taking Dawn</td>\n",
       "      <td>Black Diamond</td>\n",
       "    </tr>\n",
       "    <tr>\n",
       "      <th>4670</th>\n",
       "      <td>2010</td>\n",
       "      <td>TRAJPCX12903CE8ACB</td>\n",
       "      <td>The Chap</td>\n",
       "      <td>Gimme Legs</td>\n",
       "    </tr>\n",
       "    <tr>\n",
       "      <th>4671</th>\n",
       "      <td>2010</td>\n",
       "      <td>TRATWYC12903CE60D6</td>\n",
       "      <td>The Dillinger Escape Plan</td>\n",
       "      <td>Parasitic Twins</td>\n",
       "    </tr>\n",
       "    <tr>\n",
       "      <th>4672</th>\n",
       "      <td>2010</td>\n",
       "      <td>TRAFFEQ12903CF4356</td>\n",
       "      <td>The Ocean</td>\n",
       "      <td>Catharsis Of A Heretic</td>\n",
       "    </tr>\n",
       "    <tr>\n",
       "      <th>4673</th>\n",
       "      <td>2010</td>\n",
       "      <td>TRASVOH12903CCDC0B</td>\n",
       "      <td>Usher</td>\n",
       "      <td>Hey Daddy (Daddy's Home)</td>\n",
       "    </tr>\n",
       "    <tr>\n",
       "      <th>4674</th>\n",
       "      <td>2010</td>\n",
       "      <td>TRBDRUE12903CD596D</td>\n",
       "      <td>Vex'd</td>\n",
       "      <td>Disposition (feat. Jest)</td>\n",
       "    </tr>\n",
       "    <tr>\n",
       "      <th>4675</th>\n",
       "      <td>2010</td>\n",
       "      <td>TRBEOUT12903CD5981</td>\n",
       "      <td>Vex'd</td>\n",
       "      <td>Oceans</td>\n",
       "    </tr>\n",
       "    <tr>\n",
       "      <th>4676</th>\n",
       "      <td>2010</td>\n",
       "      <td>TRAHQBJ12903CAB1FA</td>\n",
       "      <td>Year Long Disaster</td>\n",
       "      <td>Stranger In My Room</td>\n",
       "    </tr>\n",
       "    <tr>\n",
       "      <th>4677</th>\n",
       "      <td>2010</td>\n",
       "      <td>TRAVSQE12903CB6879</td>\n",
       "      <td>Zeromancer</td>\n",
       "      <td>The Death Of Romance</td>\n",
       "    </tr>\n",
       "    <tr>\n",
       "      <th>4678</th>\n",
       "      <td>2010</td>\n",
       "      <td>TRBBMDA12903CB688E</td>\n",
       "      <td>Zeromancer</td>\n",
       "      <td>V</td>\n",
       "    </tr>\n",
       "    <tr>\n",
       "      <th>4679</th>\n",
       "      <td>2010</td>\n",
       "      <td>TRAOYZH12903CBE1FF</td>\n",
       "      <td>ZombieSuckers</td>\n",
       "      <td>The Nightmare Begins</td>\n",
       "    </tr>\n",
       "  </tbody>\n",
       "</table>\n",
       "<p>4680 rows × 4 columns</p>\n",
       "</div>"
      ],
      "text/plain": [
       "      Year                  ID  \\\n",
       "0     1926  TRBHUOU128F423625E   \n",
       "1     1926  TRBFMCN128F423625D   \n",
       "2     1927  TRAUSMF12903CE71E5   \n",
       "3     1927  TRAGJGZ128F421EE19   \n",
       "4     1927  TRACBWQ128F92F2B91   \n",
       "5     1929  TRAYUWU128F423F66D   \n",
       "6     1930  TRACMPZ12903CF150B   \n",
       "7     1930  TRAFMDA128F4224347   \n",
       "8     1934  TRAPTGG128F9326020   \n",
       "9     1935  TRAUCPI128F4224350   \n",
       "10    1935  TRBGPAX12903CEC037   \n",
       "11    1936  TRAMWSA128F9359719   \n",
       "12    1940  TRAHYFB128F4280BB8   \n",
       "13    1940  TRBAKJC128F93399FB   \n",
       "14    1947  TRAYRXY128F1494819   \n",
       "15    1947  TRAFSGJ12903CAA742   \n",
       "16    1950  TRAVEOQ128F931C8F4   \n",
       "17    1953  TRAPRRP12903CD97E9   \n",
       "18    1953  TRAOFJS12903CF3F3D   \n",
       "19    1953  TRAOMMU128F933878B   \n",
       "20    1953  TRALNDQ128F930DB3A   \n",
       "21    1954  TRADDWO128F9305E06   \n",
       "22    1955  TRAJBRT128F9303318   \n",
       "23    1956  TRBFNLX128F4249752   \n",
       "24    1956  TRAXPEN128F933F4DC   \n",
       "25    1956  TRAFMNM128F4251008   \n",
       "26    1956  TRBHOXV128F92FBB72   \n",
       "27    1956  TRAJHCS128F93192B5   \n",
       "28    1956  TRAFTOE12903CF3F5E   \n",
       "29    1956  TRAHSYA128F428143A   \n",
       "...    ...                 ...   \n",
       "4650  2010  TRBECGH12903CC2304   \n",
       "4651  2010  TRBDJNF12903CE6967   \n",
       "4652  2010  TRAYBTJ12903CB4C22   \n",
       "4653  2010  TRAZHMT12903C9D27E   \n",
       "4654  2010  TRAGZHM12903CAEF3A   \n",
       "4655  2010  TRASYIH12903D08529   \n",
       "4656  2010  TRAQOOW128F932FA3C   \n",
       "4657  2010  TRAAPLS12903CB2D40   \n",
       "4658  2010  TRATBMJ12903CB2D45   \n",
       "4659  2010  TRBGYDZ12903D075D4   \n",
       "4660  2010  TRBARSX12903D03AE5   \n",
       "4661  2010  TRAKYCT12903CBBE17   \n",
       "4662  2010  TRABNDD128F933D3C7   \n",
       "4663  2010  TRBAOXY128F933D3C8   \n",
       "4664  2010  TRAWFCM12903CBE6FA   \n",
       "4665  2010  TRAWQKX12903CB3EC2   \n",
       "4666  2010  TRAKGDZ12903CE4867   \n",
       "4667  2010  TRAAODT12903D0D16E   \n",
       "4668  2010  TRAFITO12903D0D16A   \n",
       "4669  2010  TRANQYI12903CA2BA9   \n",
       "4670  2010  TRAJPCX12903CE8ACB   \n",
       "4671  2010  TRATWYC12903CE60D6   \n",
       "4672  2010  TRAFFEQ12903CF4356   \n",
       "4673  2010  TRASVOH12903CCDC0B   \n",
       "4674  2010  TRBDRUE12903CD596D   \n",
       "4675  2010  TRBEOUT12903CD5981   \n",
       "4676  2010  TRAHQBJ12903CAB1FA   \n",
       "4677  2010  TRAVSQE12903CB6879   \n",
       "4678  2010  TRBBMDA12903CB688E   \n",
       "4679  2010  TRAOYZH12903CBE1FF   \n",
       "\n",
       "                                                 Artist  \\\n",
       "0                                 Blind Lemon Jefferson   \n",
       "1                                 Blind Lemon Jefferson   \n",
       "2                                 Blind Lemon Jefferson   \n",
       "3                                   Blind Willie McTell   \n",
       "4                                             Ma Rainey   \n",
       "5                                        Charley Patton   \n",
       "6                                        Charley Patton   \n",
       "7                                     Sleepy John Estes   \n",
       "8                                        Charlie Patton   \n",
       "9                                     Sleepy John Estes   \n",
       "10                                    Sleepy John Estes   \n",
       "11                                            Red Foley   \n",
       "12                                          Bukka White   \n",
       "13                                          Bukka White   \n",
       "14                                         Tex Williams   \n",
       "15                                         Tex Williams   \n",
       "16                                       Percy Mayfield   \n",
       "17    Big Mama Thornton with Kansas Bill and his Orc...   \n",
       "18                                     Georges Brassens   \n",
       "19                                          Guitar Slim   \n",
       "20                        Percy Faith And His Orchestra   \n",
       "21                                         J. B. Lenoir   \n",
       "22                                     Toots Thielemans   \n",
       "23                                            B.B. King   \n",
       "24                                             B.B.King   \n",
       "25                                           Cal Tjader   \n",
       "26                                          Eddy Arnold   \n",
       "27                                     Georges Brassens   \n",
       "28                                     Georges Brassens   \n",
       "29                                Screamin' Jay Hawkins   \n",
       "...                                                 ...   \n",
       "4650                                 Markscheider Kunst   \n",
       "4651                               Melissa Auf der Maur   \n",
       "4652                                          Metsatöll   \n",
       "4653                                              Moist   \n",
       "4654                                         Mägo de Oz   \n",
       "4655                    Nick Jonas & The Administration   \n",
       "4656                                              Noemi   \n",
       "4657                                      Pascal Sangla   \n",
       "4658                                      Pascal Sangla   \n",
       "4659                                      Patty Griffin   \n",
       "4660                                               Sade   \n",
       "4661                                     Sick Of It All   \n",
       "4662                                       Sister Hazel   \n",
       "4663                                       Sister Hazel   \n",
       "4664                                          Skyforger   \n",
       "4665                                          Slackbaba   \n",
       "4666                                  Story Of The Year   \n",
       "4667                                     Susana Seivane   \n",
       "4668                                     Susana Seivane   \n",
       "4669                                        Taking Dawn   \n",
       "4670                                           The Chap   \n",
       "4671                          The Dillinger Escape Plan   \n",
       "4672                                          The Ocean   \n",
       "4673                                              Usher   \n",
       "4674                                              Vex'd   \n",
       "4675                                              Vex'd   \n",
       "4676                                 Year Long Disaster   \n",
       "4677                                         Zeromancer   \n",
       "4678                                         Zeromancer   \n",
       "4679                                      ZombieSuckers   \n",
       "\n",
       "                                      Title  \n",
       "0                       Long Lonesome Blues  \n",
       "1                             Got The Blues  \n",
       "2                             Wartime Blues  \n",
       "3                       Writing Paper Blues  \n",
       "4                  Ma Rainey's Black Bottom  \n",
       "5                Mississippi Boweavil Blues  \n",
       "6                           Moon Going Down  \n",
       "7                          Street Car Blues  \n",
       "8                                  34 Blues  \n",
       "9                           Stop That Thing  \n",
       "10                         Down South Blues  \n",
       "11                                 Old Shep  \n",
       "12                      Fixin' To Die Blues  \n",
       "13                         Sleepy Man Blues  \n",
       "14    Smoke! Smoke! Smoke! (That Cigarette)  \n",
       "15    Smoke! Smoke! Smoke! (That Cigarette)  \n",
       "16           Please Send Me Someone To Love  \n",
       "17                                Hound Dog  \n",
       "18                               Comme hier  \n",
       "19             The Things That I Used To Do  \n",
       "20               The Song From Moulin Rouge  \n",
       "21                             I'm in Korea  \n",
       "22                       Sophisticated Lady  \n",
       "23                           Please Love Me  \n",
       "24                           Please Love Me  \n",
       "25                           Manuel's Mambo  \n",
       "26                            Molly Darling  \n",
       "27                      Auprès De Mon Arbre  \n",
       "28                                Colombine  \n",
       "29                     I Put a Spell on You  \n",
       "...                                     ...  \n",
       "4650                                     Dj  \n",
       "4651                                The Key  \n",
       "4652                     Kui rebeneb taevas  \n",
       "4653                 Far Beyond The Endless  \n",
       "4654                         Qué Desilusión  \n",
       "4655                     State of Emergency  \n",
       "4656                          Per Colpa Tua  \n",
       "4657                       Une petite pause  \n",
       "4658                        Assis par terre  \n",
       "4659      All Creatures Of Our God And King  \n",
       "4660                           Morning Bird  \n",
       "4661                          Death Or Jail  \n",
       "4662          Walls And Cannonballs (Album)  \n",
       "4663                  Vacation Rain (Album)  \n",
       "4664                      In the Underworld  \n",
       "4665                         The Real Trick  \n",
       "4666                          Won Threw Ate  \n",
       "4667                        Para Milladoiro  \n",
       "4668               Mazurcas das Rías Baixas  \n",
       "4669                          Black Diamond  \n",
       "4670                             Gimme Legs  \n",
       "4671                        Parasitic Twins  \n",
       "4672                 Catharsis Of A Heretic  \n",
       "4673               Hey Daddy (Daddy's Home)  \n",
       "4674               Disposition (feat. Jest)  \n",
       "4675                                 Oceans  \n",
       "4676                    Stranger In My Room  \n",
       "4677                   The Death Of Romance  \n",
       "4678                                      V  \n",
       "4679                   The Nightmare Begins  \n",
       "\n",
       "[4680 rows x 4 columns]"
      ]
     },
     "execution_count": 18,
     "metadata": {},
     "output_type": "execute_result"
    }
   ],
   "source": [
    "# Load the file\n",
    "filename = './AdditionalFiles/subset_tracks_per_year.txt'\n",
    "names = ['Year', 'ID', 'Artist', 'Title']\n",
    "tracks_per_year = pd.read_csv(filename, sep='<SEP>', names=names)\n",
    "tracks_per_year"
   ]
  },
  {
   "cell_type": "code",
   "execution_count": 19,
   "metadata": {
    "collapsed": false
   },
   "outputs": [
    {
     "data": {
      "text/plain": [
       "(array([1926, 1927, 1929, 1930, 1934, 1935, 1936, 1940, 1947, 1950, 1953,\n",
       "        1954, 1955, 1956, 1957, 1958, 1959, 1960, 1961, 1962, 1963, 1964,\n",
       "        1965, 1966, 1967, 1968, 1969, 1970, 1971, 1972, 1973, 1974, 1975,\n",
       "        1976, 1977, 1978, 1979, 1980, 1981, 1982, 1983, 1984, 1985, 1986,\n",
       "        1987, 1988, 1989, 1990, 1991, 1992, 1993, 1994, 1995, 1996, 1997,\n",
       "        1998, 1999, 2000, 2001, 2002, 2003, 2004, 2005, 2006, 2007, 2008,\n",
       "        2009, 2010]),\n",
       " array([  2,   3,   1,   2,   1,   2,   1,   2,   2,   1,   4,   1,   1,\n",
       "          7,   1,   6,   9,   9,   7,   4,  15,  13,   8,  12,  29,  23,\n",
       "         17,  21,  25,  24,  24,  22,  24,  15,  35,  20,  36,  32,  36,\n",
       "         50,  47,  32,  34,  37,  44,  61,  66,  72,  91,  98, 126, 115,\n",
       "        135, 109, 130, 151, 178, 192, 217, 198, 254, 270, 304, 320, 285,\n",
       "        253, 250,  64]))"
      ]
     },
     "execution_count": 19,
     "metadata": {},
     "output_type": "execute_result"
    }
   ],
   "source": [
    "# Parse to get the number per year\n",
    "year, counts = np.unique(tracks_per_year['Year'], return_counts=True)\n",
    "year, counts"
   ]
  },
  {
   "cell_type": "code",
   "execution_count": 29,
   "metadata": {
    "collapsed": false
   },
   "outputs": [
    {
     "data": {
      "text/plain": [
       "(2006, 320)"
      ]
     },
     "execution_count": 29,
     "metadata": {},
     "output_type": "execute_result"
    }
   ],
   "source": [
    "# Find the year with the most songs\n",
    "max_ind = counts.argmax()\n",
    "max_year = year[max_ind]\n",
    "max_count = counts[max_ind]\n",
    "max_year, max_count"
   ]
  },
  {
   "cell_type": "code",
   "execution_count": 30,
   "metadata": {
    "collapsed": false
   },
   "outputs": [
    {
     "data": {
      "text/plain": [
       "(0, 350)"
      ]
     },
     "execution_count": 30,
     "metadata": {},
     "output_type": "execute_result"
    },
    {
     "data": {
      "image/png": "[encoded data removed]",
      "text/plain": [
       "<matplotlib.figure.Figure at 0x11a4dea50>"
      ]
     },
     "metadata": {},
     "output_type": "display_data"
    }
   ],
   "source": [
    "# Plot the data\n",
    "fig = plt.figure(figsize=(10,6))\n",
    "ax = plt.gca()\n",
    "\n",
    "ax.scatter(year, counts, s=30, color='k')\n",
    "\n",
    "ax.set_xlabel('Year', fontsize=22)\n",
    "ax.set_ylabel('Number of Songs', fontsize=22)\n",
    "\n",
    "ax.set_xlim([1925, 2017])\n",
    "ax.set_ylim([0, 350])"
   ]
  },
  {
   "cell_type": "code",
   "execution_count": 36,
   "metadata": {
    "collapsed": true
   },
   "outputs": [],
   "source": [
    "# Save the plot\n",
    "fig.savefig('meta_plots/songs_per_year.png', dpi=300, bbox_inches='tight')"
   ]
  },
  {
   "cell_type": "markdown",
   "metadata": {},
   "source": [
    "### Here's the relevant information for this plot:"
   ]
  },
  {
   "cell_type": "code",
   "execution_count": 31,
   "metadata": {
    "collapsed": false
   },
   "outputs": [
    {
     "name": "stdout",
     "output_type": "stream",
     "text": [
      "Year with the most songs : 2006\n",
      "Number of songs in that year : 320\n"
     ]
    }
   ],
   "source": [
    "print 'Year with the most songs : {}'.format(max_year)\n",
    "print 'Number of songs in that year : {}'.format(max_count)"
   ]
  },
  {
   "cell_type": "markdown",
   "metadata": {},
   "source": [
    "# Load Up the SQL Lite Database\n",
    "I tried this out as a way to load the data, but it requires me knowing SQL, which I don't really want to spend time on right now."
   ]
  },
  {
   "cell_type": "code",
   "execution_count": 39,
   "metadata": {
    "collapsed": false
   },
   "outputs": [
    {
     "data": {
      "text/plain": [
       "<sqlite3.Connection at 0x11b4a64b8>"
      ]
     },
     "execution_count": 39,
     "metadata": {},
     "output_type": "execute_result"
    }
   ],
   "source": [
    "# Establish a connection\n",
    "track_meta_data_conn = sqlite3.connect('AdditionalFiles/subset_track_metadata.db')\n",
    "track_meta_data_conn"
   ]
  },
  {
   "cell_type": "markdown",
   "metadata": {},
   "source": [
    "# Investigate an Example Data Set"
   ]
  },
  {
   "cell_type": "code",
   "execution_count": 45,
   "metadata": {
    "collapsed": false
   },
   "outputs": [
    {
     "data": {
      "text/plain": [
       "<HDF5 file \"TRAABDL12903CAABBA.h5\" (mode r)>"
      ]
     },
     "execution_count": 45,
     "metadata": {},
     "output_type": "execute_result"
    }
   ],
   "source": [
    "# Load the example\n",
    "example_fname = './data/A/A/B/TRAABDL12903CAABBA.h5'\n",
    "example = h5py.File(example_fname, 'r')\n",
    "example"
   ]
  },
  {
   "cell_type": "code",
   "execution_count": 47,
   "metadata": {
    "collapsed": false
   },
   "outputs": [
    {
     "data": {
      "text/plain": [
       "([u'analysis', u'metadata', u'musicbrainz'],\n",
       " [u'TITLE', u'CLASS', u'VERSION', u'PYTABLES_FORMAT_VERSION', u'FILTERS'])"
      ]
     },
     "execution_count": 47,
     "metadata": {},
     "output_type": "execute_result"
    }
   ],
   "source": [
    "# Look at what keys there are\n",
    "example.keys(), example.attrs.keys()"
   ]
  },
  {
   "cell_type": "code",
   "execution_count": 58,
   "metadata": {
    "collapsed": false
   },
   "outputs": [
    {
     "data": {
      "text/plain": [
       "array([ (22050, '8f298a84c01d4892d820ff54104b7df8', 0.0, 226.35057, 0.0, 0.0, 0, 0, 0, 0, 0, 0, 0, 0, 0, 0, 0, 0, 0, 0, 0, 9, 0.205, -6.632, 1, 0.305, 221.553, 130.04, 4, 0.0, 'TRAABDL12903CAABBA')], \n",
       "      dtype=[('analysis_sample_rate', '<i4'), ('audio_md5', 'S32'), ('danceability', '<f8'), ('duration', '<f8'), ('end_of_fade_in', '<f8'), ('energy', '<f8'), ('idx_bars_confidence', '<i4'), ('idx_bars_start', '<i4'), ('idx_beats_confidence', '<i4'), ('idx_beats_start', '<i4'), ('idx_sections_confidence', '<i4'), ('idx_sections_start', '<i4'), ('idx_segments_confidence', '<i4'), ('idx_segments_loudness_max', '<i4'), ('idx_segments_loudness_max_time', '<i4'), ('idx_segments_loudness_start', '<i4'), ('idx_segments_pitches', '<i4'), ('idx_segments_start', '<i4'), ('idx_segments_timbre', '<i4'), ('idx_tatums_confidence', '<i4'), ('idx_tatums_start', '<i4'), ('key', '<i4'), ('key_confidence', '<f8'), ('loudness', '<f8'), ('mode', '<i4'), ('mode_confidence', '<f8'), ('start_of_fade_out', '<f8'), ('tempo', '<f8'), ('time_signature', '<i4'), ('time_signature_confidence', '<f8'), ('track_id', 'S32')])"
      ]
     },
     "execution_count": 58,
     "metadata": {},
     "output_type": "execute_result"
    }
   ],
   "source": [
    "example['analysis']['songs'][...]"
   ]
  },
  {
   "cell_type": "markdown",
   "metadata": {},
   "source": [
    "#### Look at each key in turn"
   ]
  },
  {
   "cell_type": "code",
   "execution_count": 50,
   "metadata": {
    "collapsed": false
   },
   "outputs": [
    {
     "data": {
      "text/plain": [
       "[u'bars_confidence',\n",
       " u'bars_start',\n",
       " u'beats_confidence',\n",
       " u'beats_start',\n",
       " u'sections_confidence',\n",
       " u'sections_start',\n",
       " u'segments_confidence',\n",
       " u'segments_loudness_max',\n",
       " u'segments_loudness_max_time',\n",
       " u'segments_loudness_start',\n",
       " u'segments_pitches',\n",
       " u'segments_start',\n",
       " u'segments_timbre',\n",
       " u'songs',\n",
       " u'tatums_confidence',\n",
       " u'tatums_start']"
      ]
     },
     "execution_count": 50,
     "metadata": {},
     "output_type": "execute_result"
    }
   ],
   "source": [
    "example['analysis'].keys()"
   ]
  },
  {
   "cell_type": "code",
   "execution_count": 51,
   "metadata": {
    "collapsed": false
   },
   "outputs": [
    {
     "data": {
      "text/plain": [
       "[u'artist_terms',\n",
       " u'artist_terms_freq',\n",
       " u'artist_terms_weight',\n",
       " u'similar_artists',\n",
       " u'songs']"
      ]
     },
     "execution_count": 51,
     "metadata": {},
     "output_type": "execute_result"
    }
   ],
   "source": [
    "example['metadata'].keys()"
   ]
  },
  {
   "cell_type": "code",
   "execution_count": 52,
   "metadata": {
    "collapsed": false
   },
   "outputs": [
    {
     "data": {
      "text/plain": [
       "[u'artist_mbtags', u'artist_mbtags_count', u'songs']"
      ]
     },
     "execution_count": 52,
     "metadata": {},
     "output_type": "execute_result"
    }
   ],
   "source": [
    "example['musicbrainz'].keys()"
   ]
  },
  {
   "cell_type": "markdown",
   "metadata": {},
   "source": [
    "# Do Analysis on Babe Lyrics"
   ]
  },
  {
   "cell_type": "code",
   "execution_count": null,
   "metadata": {
    "collapsed": true
   },
   "outputs": [],
   "source": [
    "# Load the file containing all the names\n",
    "filename = '.'\n",
    "names = ['Word', 'Count']\n",
    "tracks_per_year = pd.read_csv(filename, sep='<SEP>', names=names)\n",
    "tracks_per_year"
   ]
  }
 ],
 "metadata": {
  "anaconda-cloud": {},
  "kernelspec": {
   "display_name": "Python [default]",
   "language": "python",
   "name": "python2"
  },
  "language_info": {
   "codemirror_mode": {
    "name": "ipython",
    "version": 2
   },
   "file_extension": ".py",
   "mimetype": "text/x-python",
   "name": "python",
   "nbconvert_exporter": "python",
   "pygments_lexer": "ipython2",
   "version": "2.7.12"
  }
 },
 "nbformat": 4,
 "nbformat_minor": 0
}
